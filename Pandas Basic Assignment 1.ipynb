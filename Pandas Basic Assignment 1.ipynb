{
 "cells": [
  {
   "cell_type": "raw",
   "id": "494796ca-028c-4785-85b9-090abaf6a834",
   "metadata": {},
   "source": [
    "Q1. Create a Pandas Series that contains the following data: 4, 8, 15, 16, 23, and 42. Then, print the series."
   ]
  },
  {
   "cell_type": "code",
   "execution_count": 1,
   "id": "662516f5-5396-4d86-be2e-984a9b84e684",
   "metadata": {},
   "outputs": [
    {
     "name": "stdout",
     "output_type": "stream",
     "text": [
      "0     4\n",
      "1     8\n",
      "2    15\n",
      "3    16\n",
      "4    23\n",
      "5    42\n",
      "dtype: int64\n"
     ]
    }
   ],
   "source": [
    "# ANS :\n",
    "\n",
    "import pandas as pd\n",
    "\n",
    "data = [4, 8, 15, 16, 23, 42]\n",
    "pd_series = pd.Series(data)\n",
    "\n",
    "print(pd_series)\n"
   ]
  },
  {
   "cell_type": "raw",
   "id": "fea51c02-8b03-4a8f-9845-a2cd9f285d56",
   "metadata": {},
   "source": [
    "Q2. Create a variable of list type containing 10 elements in it, and apply pandas.Series function on the\n",
    "variable print it."
   ]
  },
  {
   "cell_type": "code",
   "execution_count": 5,
   "id": "62ae2c00-d918-423b-a46b-621a94c63d77",
   "metadata": {},
   "outputs": [
    {
     "name": "stdout",
     "output_type": "stream",
     "text": [
      "0     11\n",
      "1     22\n",
      "2     33\n",
      "3     44\n",
      "4     55\n",
      "5     66\n",
      "6     77\n",
      "7     88\n",
      "8     99\n",
      "9    100\n",
      "dtype: int64\n"
     ]
    }
   ],
   "source": [
    "#ANS :\n",
    "\n",
    "import pandas as pd\n",
    "\n",
    "Series_list = [11, 22, 33, 44, 55, 66, 77, 88, 99, 100]\n",
    "\n",
    "my_series = pd.Series(Series_list)\n",
    "\n",
    "print(my_series)\n"
   ]
  },
  {
   "cell_type": "raw",
   "id": "7222ae2d-dddb-4b35-836a-d3b94928a480",
   "metadata": {},
   "source": [
    "Q3. Create a Pandas DataFrame that contains the following data:"
   ]
  },
  {
   "cell_type": "code",
   "execution_count": 6,
   "id": "920c104d-6963-4c67-9eb0-e0e8632766bd",
   "metadata": {},
   "outputs": [
    {
     "name": "stdout",
     "output_type": "stream",
     "text": [
      "     Name  Age  Gender\n",
      "0   Alice   25  Female\n",
      "1     Bob   30    Male\n",
      "2  Claire   27  Female\n"
     ]
    }
   ],
   "source": [
    "# ANS : \n",
    "\n",
    "import pandas as pd\n",
    "\n",
    "data = {\n",
    "    'Name': ['Alice', 'Bob', 'Claire'],\n",
    "    'Age': [25, 30, 27],\n",
    "    'Gender': ['Female', 'Male', 'Female']}\n",
    "\n",
    "df = pd.DataFrame(data)\n",
    "\n",
    "print(df)\n"
   ]
  },
  {
   "cell_type": "raw",
   "id": "5323b2a4-7c27-452f-a4a5-c74cafa18c4d",
   "metadata": {},
   "source": [
    "Q4. What is ‘DataFrame’ in pandas and how is it different from pandas.series? Explain with an example."
   ]
  },
  {
   "cell_type": "code",
   "execution_count": 1,
   "id": "39b87c6c-fd37-427d-9712-1b3847fd3bc4",
   "metadata": {},
   "outputs": [
    {
     "name": "stdout",
     "output_type": "stream",
     "text": [
      "DataFrame:\n",
      "     Name  Age  Gender\n",
      "0   Alice   25  Female\n",
      "1     Bob   30    Male\n",
      "2  Claire   27  Female\n",
      "\n",
      "Series (Age column):\n",
      "0    25\n",
      "1    30\n",
      "2    27\n",
      "Name: Age, dtype: int64\n"
     ]
    }
   ],
   "source": [
    "# ANS :\n",
    "import pandas as pd\n",
    "\n",
    "# Creating a DataFrame\n",
    "data = {\n",
    "    'Name': ['Alice', 'Bob', 'Claire'],\n",
    "    'Age': [25, 30, 27],\n",
    "    'Gender': ['Female', 'Male', 'Female']\n",
    "}\n",
    "\n",
    "df = pd.DataFrame(data)\n",
    "\n",
    "age_series = df['Age']\n",
    "\n",
    "print(\"DataFrame:\")\n",
    "print(df)\n",
    "print(\"\\nSeries (Age column):\")\n",
    "print(age_series)\n",
    "\n"
   ]
  },
  {
   "cell_type": "raw",
   "id": "9275c9f6-0b2d-44cf-90b4-15386f6c2449",
   "metadata": {},
   "source": [
    "Q5. What are some common functions you can use to manipulate data in a Pandas DataFrame? Can\n",
    "you give an example of when you might use one of these functions?"
   ]
  },
  {
   "cell_type": "code",
   "execution_count": 8,
   "id": "54dcb5a1-0708-49a6-aac3-a833256b9ada",
   "metadata": {},
   "outputs": [
    {
     "name": "stdout",
     "output_type": "stream",
     "text": [
      "     Name  Age  Gender\n",
      "0   Alice   25  Female\n",
      "1     Bob   30    Male\n",
      "2  Claire   27  Female\n"
     ]
    }
   ],
   "source": [
    "# ANS : head() and tail(), info(),describe(),sort_values()\n",
    "\n",
    "import pandas as pd\n",
    "\n",
    "data = {\n",
    "    'Name': ['Alice', 'Bob', 'Claire', 'David', 'Eva'],\n",
    "    'Age': [25, 30, 27, 22, 35],\n",
    "    'Gender': ['Female', 'Male', 'Female', 'Male', 'Female']\n",
    "}\n",
    "\n",
    "df = pd.DataFrame(data)\n",
    "\n",
    "head_result = df.head(3)\n",
    "\n",
    "print(head_result)"
   ]
  },
  {
   "cell_type": "raw",
   "id": "2ecf64b2-4ca9-4279-b6f9-483c96cb3ba7",
   "metadata": {},
   "source": [
    "Q6. Which of the following is mutable in nature Series, DataFrame, Panel?"
   ]
  },
  {
   "cell_type": "code",
   "execution_count": 4,
   "id": "a8260e00-9fac-40b6-816e-0a5e287247f1",
   "metadata": {},
   "outputs": [],
   "source": [
    "# ANS : Series & DataFrame both are mutable but panel is not mutable."
   ]
  },
  {
   "cell_type": "raw",
   "id": "5dcd6d98-8da7-4b42-9a0d-55013d0203cd",
   "metadata": {},
   "source": [
    "Q7. Create a DataFrame using multiple Series. Explain with an example."
   ]
  },
  {
   "cell_type": "code",
   "execution_count": 5,
   "id": "92d1c994-cd69-4c03-8ec9-eac0505b357b",
   "metadata": {},
   "outputs": [
    {
     "name": "stdout",
     "output_type": "stream",
     "text": [
      "     Name  Age  Gender\n",
      "0   Alice   25  Female\n",
      "1     Bob   30    Male\n",
      "2  Claire   27  Female\n"
     ]
    }
   ],
   "source": [
    "# ANS : \n",
    "\n",
    "import pandas as pd\n",
    "\n",
    "names = pd.Series(['Alice', 'Bob', 'Claire'])\n",
    "ages = pd.Series([25, 30, 27])\n",
    "genders = pd.Series(['Female', 'Male', 'Female'])\n",
    "\n",
    "df = pd.DataFrame({'Name': names, 'Age': ages, 'Gender': genders})\n",
    "\n",
    "print(df)\n"
   ]
  },
  {
   "cell_type": "code",
   "execution_count": null,
   "id": "259a6c78-2de6-4a0e-b7de-fab3382b51be",
   "metadata": {},
   "outputs": [],
   "source": []
  },
  {
   "cell_type": "code",
   "execution_count": null,
   "id": "a8fc1b74-8e14-48dd-abd6-be054df07833",
   "metadata": {},
   "outputs": [],
   "source": []
  },
  {
   "cell_type": "code",
   "execution_count": null,
   "id": "403a5a05-2131-4649-88db-090604f38368",
   "metadata": {},
   "outputs": [],
   "source": []
  }
 ],
 "metadata": {
  "kernelspec": {
   "display_name": "Python 3 (ipykernel)",
   "language": "python",
   "name": "python3"
  },
  "language_info": {
   "codemirror_mode": {
    "name": "ipython",
    "version": 3
   },
   "file_extension": ".py",
   "mimetype": "text/x-python",
   "name": "python",
   "nbconvert_exporter": "python",
   "pygments_lexer": "ipython3",
   "version": "3.10.8"
  }
 },
 "nbformat": 4,
 "nbformat_minor": 5
}
